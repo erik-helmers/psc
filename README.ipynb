{
 "cells": [
  {
   "cell_type": "code",
   "execution_count": null,
   "id": "d4256871-8ba7-49c4-a0b5-8e47d30d87ac",
   "metadata": {},
   "outputs": [],
   "source": [
    "from pathlib import Path\n",
    "import pandas as pd\n",
    "import pygwalker as pyg\n",
    "import matplotlib.pyplot as plt\n",
    "import numpy as np"
   ]
  },
  {
   "cell_type": "code",
   "execution_count": null,
   "id": "17454601-d2ec-4b23-8a3e-c26597985263",
   "metadata": {},
   "outputs": [],
   "source": [
    "%matplotlib widget"
   ]
  },
  {
   "cell_type": "code",
   "execution_count": null,
   "id": "14cb8570-9f83-4a54-b810-5d4ec6ba2a21",
   "metadata": {},
   "outputs": [],
   "source": [
    "from lib import core, analysis\n",
    "from lib.core import Core\n",
    "from lib import analysis"
   ]
  },
  {
   "cell_type": "markdown",
   "id": "b34a168a-6f42-4e95-86d1-e26ec195f11e",
   "metadata": {},
   "source": [
    "# Vue d'ensemble\n",
    "\n",
    "Ce dashboard donne une vue d'ensemble sur les progrès en terme d'analyse et de développement de solutions d'algorithmes de hachage flous."
   ]
  },
  {
   "cell_type": "code",
   "execution_count": null,
   "id": "8bce3a14-c287-4c69-a153-f873f5295abe",
   "metadata": {},
   "outputs": [],
   "source": [
    "data = Path(\"./data\")\n",
    "core = Core(data)"
   ]
  },
  {
   "cell_type": "markdown",
   "id": "2894ff1d-e482-4982-845e-5507b06927cd",
   "metadata": {},
   "source": [
    "Les algorithmes actuellements supportés sont : "
   ]
  },
  {
   "cell_type": "code",
   "execution_count": null,
   "id": "600ee4ea-cd7d-406a-aaec-d8c997146695",
   "metadata": {},
   "outputs": [],
   "source": [
    "core.runners()"
   ]
  },
  {
   "cell_type": "markdown",
   "id": "04cf6ddc-ec7e-40c5-a3ea-48517d8487a6",
   "metadata": {},
   "source": [
    "Les benchmarks qui ont été développé sont : "
   ]
  },
  {
   "cell_type": "code",
   "execution_count": null,
   "id": "d891749a-6d39-4225-8180-a14cc930ef54",
   "metadata": {},
   "outputs": [],
   "source": [
    "core.benchmarks()"
   ]
  },
  {
   "cell_type": "markdown",
   "id": "fe58ab0d-1368-4dac-8693-7bf2e190aabe",
   "metadata": {},
   "source": [
    "## Algorithmes classiques"
   ]
  },
  {
   "cell_type": "markdown",
   "id": "5f598198-bfcf-4333-acd3-13cd371c5683",
   "metadata": {},
   "source": [
    "Configuration de base pour explorer les résultats d'un algorithme donné."
   ]
  },
  {
   "cell_type": "code",
   "execution_count": null,
   "id": "f3273488-002d-4396-a060-1b0803631b04",
   "metadata": {},
   "outputs": [],
   "source": [
    "vis_spec_single_runner = r\"\"\"{\"config\":[{\"config\":{\"defaultAggregated\":false,\"geoms\":[\"circle\"],\"coordSystem\":\"generic\",\"limit\":-1,\"timezoneDisplayOffset\":0},\"encodings\":{\"dimensions\":[{\"fid\":\"suffix\",\"name\":\"suffix\",\"basename\":\"suffix\",\"semanticType\":\"nominal\",\"analyticType\":\"dimension\",\"offset\":0},{\"fid\":\"ref\",\"name\":\"ref\",\"basename\":\"ref\",\"semanticType\":\"nominal\",\"analyticType\":\"dimension\",\"offset\":0},{\"fid\":\"mods\",\"name\":\"mods\",\"basename\":\"mods\",\"semanticType\":\"nominal\",\"analyticType\":\"dimension\",\"offset\":0},{\"fid\":\"bench\",\"name\":\"bench\",\"basename\":\"bench\",\"semanticType\":\"nominal\",\"analyticType\":\"dimension\",\"offset\":0},{\"fid\":\"alt\",\"name\":\"alt\",\"basename\":\"alt\",\"semanticType\":\"nominal\",\"analyticType\":\"dimension\",\"offset\":0},{\"fid\":\"algo\",\"name\":\"algo\",\"basename\":\"algo\",\"semanticType\":\"nominal\",\"analyticType\":\"dimension\",\"offset\":0},{\"fid\":\"mod\",\"name\":\"mod\",\"basename\":\"mod\",\"semanticType\":\"nominal\",\"analyticType\":\"dimension\",\"offset\":0},{\"fid\":\"modval\",\"name\":\"modval\",\"basename\":\"modval\",\"semanticType\":\"nominal\",\"analyticType\":\"dimension\",\"offset\":0},{\"fid\":\"gw_mea_key_fid\",\"name\":\"Measure names\",\"analyticType\":\"dimension\",\"semanticType\":\"nominal\"}],\"measures\":[{\"fid\":\"dist\",\"name\":\"dist\",\"basename\":\"dist\",\"analyticType\":\"measure\",\"semanticType\":\"quantitative\",\"aggName\":\"sum\",\"offset\":0},{\"fid\":\"gw_count_fid\",\"name\":\"Row count\",\"analyticType\":\"measure\",\"semanticType\":\"quantitative\",\"aggName\":\"sum\",\"computed\":true,\"expression\":{\"op\":\"one\",\"params\":[],\"as\":\"gw_count_fid\"}},{\"fid\":\"gw_mea_val_fid\",\"name\":\"Measure values\",\"analyticType\":\"measure\",\"semanticType\":\"quantitative\",\"aggName\":\"sum\"}],\"rows\":[{\"fid\":\"dist\",\"name\":\"dist\",\"basename\":\"dist\",\"analyticType\":\"measure\",\"semanticType\":\"quantitative\",\"aggName\":\"sum\",\"offset\":0}],\"columns\":[{\"fid\":\"suffix\",\"name\":\"suffix\",\"basename\":\"suffix\",\"semanticType\":\"nominal\",\"analyticType\":\"dimension\",\"offset\":0},{\"fid\":\"mod\",\"name\":\"mod\",\"basename\":\"mod\",\"semanticType\":\"nominal\",\"analyticType\":\"dimension\",\"offset\":0}],\"color\":[{\"fid\":\"modval\",\"name\":\"modval\",\"basename\":\"modval\",\"semanticType\":\"nominal\",\"analyticType\":\"dimension\",\"offset\":0}],\"opacity\":[],\"size\":[],\"shape\":[],\"radius\":[],\"theta\":[],\"longitude\":[],\"latitude\":[],\"geoId\":[],\"details\":[{\"fid\":\"alt\",\"name\":\"alt\",\"basename\":\"alt\",\"semanticType\":\"nominal\",\"analyticType\":\"dimension\",\"offset\":0}],\"filters\":[{\"fid\":\"bench\",\"name\":\"bench\",\"basename\":\"bench\",\"semanticType\":\"nominal\",\"analyticType\":\"dimension\",\"offset\":0,\"rule\":{\"type\":\"one of\",\"value\":[\"image\"]}}],\"text\":[]},\"layout\":{\"showActions\":false,\"showTableSummary\":false,\"stack\":\"stack\",\"interactiveScale\":false,\"zeroScale\":true,\"size\":{\"mode\":\"full\",\"width\":320,\"height\":200},\"format\":{},\"geoKey\":\"name\",\"resolve\":{\"x\":false,\"y\":false,\"color\":false,\"opacity\":false,\"shape\":false,\"size\":false}},\"visId\":\"gw_DCxV\",\"name\":\"Image - Format impact\"},{\"config\":{\"defaultAggregated\":false,\"geoms\":[\"circle\"],\"coordSystem\":\"generic\",\"limit\":-1,\"timezoneDisplayOffset\":0},\"encodings\":{\"dimensions\":[{\"fid\":\"suffix\",\"name\":\"suffix\",\"basename\":\"suffix\",\"semanticType\":\"nominal\",\"analyticType\":\"dimension\",\"offset\":0},{\"fid\":\"ref\",\"name\":\"ref\",\"basename\":\"ref\",\"semanticType\":\"nominal\",\"analyticType\":\"dimension\",\"offset\":0},{\"fid\":\"mods\",\"name\":\"mods\",\"basename\":\"mods\",\"semanticType\":\"nominal\",\"analyticType\":\"dimension\",\"offset\":0},{\"fid\":\"bench\",\"name\":\"bench\",\"basename\":\"bench\",\"semanticType\":\"nominal\",\"analyticType\":\"dimension\",\"offset\":0},{\"fid\":\"alt\",\"name\":\"alt\",\"basename\":\"alt\",\"semanticType\":\"nominal\",\"analyticType\":\"dimension\",\"offset\":0},{\"fid\":\"algo\",\"name\":\"algo\",\"basename\":\"algo\",\"semanticType\":\"nominal\",\"analyticType\":\"dimension\",\"offset\":0},{\"fid\":\"mod\",\"name\":\"mod\",\"basename\":\"mod\",\"semanticType\":\"nominal\",\"analyticType\":\"dimension\",\"offset\":0},{\"fid\":\"modval\",\"name\":\"modval\",\"basename\":\"modval\",\"semanticType\":\"nominal\",\"analyticType\":\"dimension\",\"offset\":0},{\"fid\":\"gw_mea_key_fid\",\"name\":\"Measure names\",\"analyticType\":\"dimension\",\"semanticType\":\"nominal\"}],\"measures\":[{\"fid\":\"dist\",\"name\":\"dist\",\"basename\":\"dist\",\"analyticType\":\"measure\",\"semanticType\":\"quantitative\",\"aggName\":\"sum\",\"offset\":0},{\"fid\":\"gw_count_fid\",\"name\":\"Row count\",\"analyticType\":\"measure\",\"semanticType\":\"quantitative\",\"aggName\":\"sum\",\"computed\":true,\"expression\":{\"op\":\"one\",\"params\":[],\"as\":\"gw_count_fid\"}},{\"fid\":\"gw_mea_val_fid\",\"name\":\"Measure values\",\"analyticType\":\"measure\",\"semanticType\":\"quantitative\",\"aggName\":\"sum\"}],\"rows\":[{\"fid\":\"dist\",\"name\":\"dist\",\"basename\":\"dist\",\"analyticType\":\"measure\",\"semanticType\":\"quantitative\",\"aggName\":\"sum\",\"offset\":0}],\"columns\":[{\"fid\":\"suffix\",\"name\":\"suffix\",\"basename\":\"suffix\",\"semanticType\":\"nominal\",\"analyticType\":\"dimension\",\"offset\":0},{\"fid\":\"mod\",\"name\":\"mod\",\"basename\":\"mod\",\"semanticType\":\"nominal\",\"analyticType\":\"dimension\",\"offset\":0}],\"color\":[{\"fid\":\"modval\",\"name\":\"modval\",\"basename\":\"modval\",\"semanticType\":\"nominal\",\"analyticType\":\"dimension\",\"offset\":0}],\"opacity\":[],\"size\":[],\"shape\":[],\"radius\":[],\"theta\":[],\"longitude\":[],\"latitude\":[],\"geoId\":[],\"details\":[{\"fid\":\"alt\",\"name\":\"alt\",\"basename\":\"alt\",\"semanticType\":\"nominal\",\"analyticType\":\"dimension\",\"offset\":0}],\"filters\":[{\"fid\":\"bench\",\"name\":\"bench\",\"basename\":\"bench\",\"semanticType\":\"nominal\",\"analyticType\":\"dimension\",\"offset\":0,\"rule\":{\"type\":\"one of\",\"value\":[\"text\"]}}],\"text\":[]},\"layout\":{\"showActions\":false,\"showTableSummary\":false,\"stack\":\"stack\",\"interactiveScale\":false,\"zeroScale\":true,\"size\":{\"mode\":\"full\",\"width\":320,\"height\":200},\"format\":{},\"geoKey\":\"name\",\"resolve\":{\"x\":false,\"y\":false,\"color\":false,\"opacity\":false,\"shape\":false,\"size\":false}},\"visId\":\"gw_bwdB\",\"name\":\"Text\"}],\"chart_map\":{},\"workflow_list\":[{\"workflow\":[{\"type\":\"filter\",\"filters\":[{\"fid\":\"bench\",\"rule\":{\"type\":\"one of\",\"value\":[\"image\"]}}]},{\"type\":\"view\",\"query\":[{\"op\":\"raw\",\"fields\":[\"suffix\",\"mod\",\"modval\",\"alt\",\"dist\"]}]}]},{\"workflow\":[{\"type\":\"filter\",\"filters\":[{\"fid\":\"bench\",\"rule\":{\"type\":\"one of\",\"value\":[\"text\"]}}]},{\"type\":\"view\",\"query\":[{\"op\":\"raw\",\"fields\":[\"suffix\",\"mod\",\"modval\",\"alt\",\"dist\"]}]}]}],\"version\":\"0.4.9.13\"}\"\"\"\n",
    "def basic_single_runner_analysis(*runners):\n",
    "    df = analysis.pretty(core.run(runners, core.benchmarks()))\n",
    "    df = analysis.long(df)\n",
    "    return pyg.walk(df, spec=vis_spec_single_runner)\n"
   ]
  },
  {
   "cell_type": "markdown",
   "id": "a606a567-010e-4e06-9845-0de2152a1d73",
   "metadata": {},
   "source": [
    "#### Indicators\n",
    "We used for comparisons between the algorithms 5 indicators:\n",
    "- False positive rate: the fraction of pairs of dissimilar files juged similar by our algorithm\n",
    "- Recall: = 1 - False negative rate, the fraction of pairs of similar files juged similar by our algorithm\n",
    "- Precision: the fraction of pairs of similar files among the pairs juged similars by our algorithm\n",
    "- Global precision: the fraction of pairs of files that were correctly juged by our algorithm among every pair\n",
    "- False negative rate: the fraction of pairs of similar files juged dissimilar by our algorithm"
   ]
  },
  {
   "cell_type": "code",
   "execution_count": null,
   "id": "c119fb4c-c469-48c5-9406-944dd59402a8",
   "metadata": {},
   "outputs": [],
   "source": [
    "def indicators(df_similar, df_non_similar, threshold):\n",
    "\n",
    "    \"\"\"Computes the indicators and the f1-score of a serie of tests. df_similar (resp df_non_similar) is the dataframe containing the results of\n",
    "    the algorithm on a benchmarks with pairs of similar files (resp non_similar). Returns the tuple\n",
    "    (fn_rate, precision, recall, global_precision, fp_rate).\"\"\"\n",
    "\n",
    "    fp_len = len(df_non_similar)\n",
    "    fn_len = len(df_similar)\n",
    "\n",
    "    fp_count =  len(df_non_similar[df_non_similar['dist'] <= threshold])\n",
    "    fn_count =  len(df_similar[df_similar['dist'] > threshold])\n",
    "\n",
    "    tn_count = fp_len - fp_count\n",
    "    tp_count = fn_len - fn_count\n",
    "\n",
    "    fn_rate = fn_count / fn_len\n",
    "    fp_rate = fp_count / fp_len\n",
    "\n",
    "    global_precision = (tp_count + tn_count)/(tp_count + tn_count + fp_count + fn_count)\n",
    "\n",
    "    if tp_count + fp_count != 0: precision = tp_count/(tp_count + fp_count)\n",
    "    else: precision = 0\n",
    "\n",
    "    recall = tp_count/(tp_count + fn_count)\n",
    "\n",
    "    return  (fn_rate, precision, recall, global_precision, fp_rate)\n"
   ]
  },
  {
   "cell_type": "code",
   "execution_count": null,
   "id": "d4775dc5-1466-4b7f-8270-8ac01e2a51f4",
   "metadata": {},
   "outputs": [],
   "source": [
    "def intersection_fp_fn(fp: np.ndarray, fn: np.ndarray) -> np.ndarray:\n",
    "        if fp.shape != fn.shape:\n",
    "            raise ValueError(\"Les deux tableaux doivent avoir la même forme.\")\n",
    "        \n",
    "        # Calculer la différence entre les deux fonctions\n",
    "        difference = fp - fn\n",
    "        \n",
    "        # Trouver les indices où la différence change de signe\n",
    "        intersection_indices = np.where(np.diff(np.sign(difference)))[0]\n",
    "        \n",
    "        return intersection_indices\n",
    "\n",
    "def indicators_based_analysis(runner, bench_similar, bench_non_similar):\n",
    "    df_similar = core.run([runner], [bench_similar]) # Comparisons between similar files\n",
    "    df_non_similar = core.run([runner], [bench_non_similar]) # Comparisons between dissimilar files\n",
    "    return indicators_based_analysis_on_dfs(df_similar, df_non_similar)\n",
    "\n",
    "def indicators_based_analysis_on_dfs(df_similar, df_non_similar):\n",
    "    \"\"\"Produces the ROC graph placed at an optimum threshold, calculated at the intersection of \n",
    "    FP rate and FN rate. bench_similar (resp. bench_non_similar) is the string name of a benchmark made of pairs of similar (resp. dissimilar) files.\n",
    "    Returns the value of that optimal threshold and a tuple of the indicators at this threshold.\n",
    "    \"\"\"\n",
    "\n",
    "    threshold_values = np.linspace(0, max(max(df_similar[\"dist\"]), max(df_non_similar[\"dist\"])), 200)\n",
    "    fn_rate_values = np.array([indicators(df_similar, df_non_similar, threshold)[0] for threshold in threshold_values])\n",
    "    recall_values = np.array([indicators(df_similar, df_non_similar, threshold)[2] for threshold in threshold_values])\n",
    "    fp_rate_values = np.array([indicators(df_similar, df_non_similar, threshold)[4] for threshold in threshold_values])\n",
    "    # Minimizing fp rate and fn rate to find an optimal value of threshold called here threshold_min\n",
    "    \n",
    "    index_min = intersection_fp_fn(fn_rate_values, fp_rate_values)[0]\n",
    "    threshold_min = threshold_values[index_min]\n",
    "    min_fp_fn = fn_rate_values[index_min]\n",
    "\n",
    "    # Printing FP and FN rate to find the intersection\n",
    "    plt.close('all')\n",
    "    fig, axes = plt.subplots(1, 2, figsize=(12, 5))\n",
    "    axes[0].plot(threshold_values, fn_rate_values, color='yellow', label=\"FN rate\")\n",
    "    axes[0].plot(threshold_values, fp_rate_values, color='blue', label=\"FP rate\")\n",
    "    axes[0].axvline(x=threshold_min, color='r', linestyle='--', label=f'Seuil de travail = {threshold_min:.2f}')\n",
    "    axes[0].axhline(y=min_fp_fn, color='r', linestyle='--')\n",
    "    axes[0].scatter(threshold_min, min_fp_fn, color='red', zorder=5)  # Point de maximum\n",
    "    axes[0].set_xlabel('Valeur du seuil')\n",
    "    axes[0].set_ylabel('Score')\n",
    "    axes[0].set_title(\"Présence d'un maximum de score d'efficacité en fonction du seuil\")\n",
    "    axes[0].legend()\n",
    "    \n",
    "    # Courbe ROC\n",
    "    axes[1].plot(fp_rate_values, recall_values)\n",
    "    axes[1].set_xlabel(\"False positive rate\")\n",
    "    axes[1].set_ylabel(\"Recall\")\n",
    "    axes[1].set_title(\"Courbe ROC (Receiving Operating Characteristics)\")\n",
    "    \n",
    "    plt.tight_layout()\n",
    "    plt.show()\n",
    "    return threshold_min, indicators(df_similar, df_non_similar, threshold_min)\n",
    "    "
   ]
  },
  {
   "cell_type": "markdown",
   "id": "7e4686e5-06f1-471e-bb4b-492aa395173a",
   "metadata": {},
   "source": [
    "### Context triggered piecewise hashing"
   ]
  },
  {
   "cell_type": "markdown",
   "id": "e9efba09-4366-4d47-a62b-76ab1b3f89a1",
   "metadata": {},
   "source": [
    "* SSDeep"
   ]
  },
  {
   "cell_type": "code",
   "execution_count": null,
   "id": "fb761278-7869-4dcc-9a76-81e8f480ae88",
   "metadata": {
    "scrolled": true
   },
   "outputs": [],
   "source": [
    "basic_single_runner_analysis('ssdeep')"
   ]
  },
  {
   "cell_type": "code",
   "execution_count": null,
   "id": "0c5eede2-e07e-49f9-a851-d01e7b0cd498",
   "metadata": {},
   "outputs": [],
   "source": [
    "threshold_min_ssdeep, indicators_ssdeep_text = indicators_based_analysis('ssdeep', 'text', 'noise')"
   ]
  },
  {
   "cell_type": "code",
   "execution_count": null,
   "id": "77181b78-a1d8-4464-857c-b21a0fce60b5",
   "metadata": {},
   "outputs": [],
   "source": [
    "# Indicators of efficiency\n",
    "# We use the threshold maximising the efficiency score to compute the indicators, to have a threshold with balanced performances\n",
    "print(\n",
    "    f\"Global precision: {indicators_ssdeep_text[3]}\",\n",
    "    f\"False positive rate: {indicators_ssdeep_text[4]}\",\n",
    "    f\"Precision: {indicators_ssdeep_text[1]}\",\n",
    "    f\"Recall: {indicators_ssdeep_text[2]}\",\n",
    "    f\"Score: {indicators_ssdeep_text[0]}\",\n",
    "    sep='\\n'\n",
    ")"
   ]
  },
  {
   "cell_type": "markdown",
   "id": "d3d343af-a8ec-40a9-97cd-56fae569e2b6",
   "metadata": {},
   "source": [
    "* SDHash"
   ]
  },
  {
   "cell_type": "code",
   "execution_count": null,
   "id": "6d67477d-3166-4e99-b48b-86ec6c640ee1",
   "metadata": {},
   "outputs": [],
   "source": [
    "basic_single_runner_analysis('sdhash')"
   ]
  },
  {
   "cell_type": "code",
   "execution_count": null,
   "id": "49cff7fd-0197-45ca-9a03-9ca91adf63fd",
   "metadata": {},
   "outputs": [],
   "source": [
    "threshold_min_sdhash, indicators_sdhash_text = indicators_based_analysis('sdhash', 'text', 'noise')"
   ]
  },
  {
   "cell_type": "code",
   "execution_count": null,
   "id": "0062b5d6-9e14-4487-8e0e-4e346bdcc8b5",
   "metadata": {},
   "outputs": [],
   "source": [
    "# Indicators of efficiency\n",
    "# We use the threshold maximising the efficiency score to compute the indicators, to have a threshold with balanced performances\n",
    "\n",
    "print(\n",
    "    f\"Global precision: {indicators_sdhash_text[3]}\",\n",
    "    f\"False positive rate: {indicators_sdhash_text[4]}\",\n",
    "    f\"Precision: {indicators_sdhash_text[1]}\",\n",
    "    f\"Recall: {indicators_sdhash_text[2]}\",\n",
    "    f\"Score: {indicators_sdhash_text[0]}\",\n",
    "    sep='\\n'\n",
    ")"
   ]
  },
  {
   "cell_type": "markdown",
   "id": "f986a57e-52c2-494a-9f28-011c44813b75",
   "metadata": {},
   "source": [
    "### Locality-sensive hashing"
   ]
  },
  {
   "cell_type": "markdown",
   "id": "8b69f0dc-83b2-4124-a37d-59fdffe3e9d8",
   "metadata": {},
   "source": [
    "* Nilsimsa"
   ]
  },
  {
   "cell_type": "code",
   "execution_count": null,
   "id": "933d6a6c-e458-4333-933f-12d3c19969e0",
   "metadata": {
    "scrolled": true
   },
   "outputs": [],
   "source": [
    "basic_single_runner_analysis('nilsimsa')"
   ]
  },
  {
   "cell_type": "code",
   "execution_count": null,
   "id": "bbb076bf-d18c-4606-bb4a-670e049c4fd5",
   "metadata": {},
   "outputs": [],
   "source": [
    "threshold_min_nilsimsa, indicators_nilsimsa_text = indicators_based_analysis('nilsimsa', 'text', 'noise')"
   ]
  },
  {
   "cell_type": "code",
   "execution_count": null,
   "id": "aac14748-a779-413b-9245-9a0ff066051e",
   "metadata": {},
   "outputs": [],
   "source": [
    "# Indicators of efficiency\n",
    "# We use the threshold maximising the efficiency score to compute the indicators, to have a threshold with balanced performances\n",
    "\n",
    "print(\n",
    "    f\"Global precision: {indicators_nilsimsa_text[3]}\",\n",
    "    f\"False positive rate: {indicators_nilsimsa_text[4]}\",\n",
    "    f\"Precision: {indicators_nilsimsa_text[1]}\",\n",
    "    f\"Recall: {indicators_nilsimsa_text[2]}\",\n",
    "    f\"Score: {indicators_nilsimsa_text[0]}\",\n",
    "    sep='\\n'\n",
    ")"
   ]
  },
  {
   "cell_type": "markdown",
   "id": "18bd3f1b-814f-4539-827a-727534d7168b",
   "metadata": {},
   "source": [
    "* TLSH"
   ]
  },
  {
   "cell_type": "code",
   "execution_count": null,
   "id": "e6392696-072e-4280-a3a0-f0ce8b726005",
   "metadata": {},
   "outputs": [],
   "source": [
    "basic_single_runner_analysis('tlsh')"
   ]
  },
  {
   "cell_type": "code",
   "execution_count": null,
   "id": "7badefdd-18c1-46cb-bec4-171f2e1b0524",
   "metadata": {},
   "outputs": [],
   "source": [
    "threshold_min_tlsh, indicators_tlsh_text = indicators_based_analysis('tlsh', 'text', 'noise')"
   ]
  },
  {
   "cell_type": "code",
   "execution_count": null,
   "id": "8fcf3b15-c595-4039-8b91-c3828b5d3382",
   "metadata": {},
   "outputs": [],
   "source": [
    "# Indicators of efficiency\n",
    "# We use the threshold maximising the efficiency score to compute the indicators, to have a threshold with balanced performances\n",
    "\n",
    "print(\n",
    "    f\"Global precision: {indicators_tlsh_text[3]}\",\n",
    "    f\"False positive rate: {indicators_tlsh_text[4]}\",\n",
    "    f\"Precision: {indicators_tlsh_text[1]}\",\n",
    "    f\"Recall: {indicators_tlsh_text[2]}\",\n",
    "    f\"Score: {indicators_tlsh_text[0]}\",\n",
    "    sep='\\n'\n",
    ")"
   ]
  },
  {
   "cell_type": "markdown",
   "id": "2c9c4f17-df1c-4b05-8d77-a2ebb1f7e13d",
   "metadata": {},
   "source": [
    "### LZJD"
   ]
  },
  {
   "cell_type": "code",
   "execution_count": null,
   "id": "bf97b396-87a1-46f3-b878-800e0b0aa8d1",
   "metadata": {},
   "outputs": [],
   "source": [
    "#basic_single_runner_analysis('lzjd')"
   ]
  },
  {
   "cell_type": "code",
   "execution_count": null,
   "id": "22591ac6-4b70-42aa-98f9-c2fef957ae48",
   "metadata": {},
   "outputs": [],
   "source": [
    "threshold_min_lzjd, indicators_lzjd_text = indicators_based_analysis('lzjd', 'text', 'noise')"
   ]
  },
  {
   "cell_type": "code",
   "execution_count": null,
   "id": "0c672adf",
   "metadata": {},
   "outputs": [],
   "source": [
    "# Indicators of efficiency\n",
    "# We use the threshold maximising the efficiency score to compute the indicators, to have a threshold with balanced performances\n",
    "\n",
    "print(\n",
    "    f\"Global precision: {indicators_lzjd_text[3]}\",\n",
    "    f\"False positive rate: {indicators_lzjd_text[4]}\",\n",
    "    f\"Precision: {indicators_lzjd_text[1]}\",\n",
    "    f\"Recall: {indicators_lzjd_text[2]}\",\n",
    "    f\"Score: {indicators_lzjd_text[0]}\",\n",
    "    sep='\\n'\n",
    ")"
   ]
  },
  {
   "cell_type": "markdown",
   "id": "83bf1fdc-e282-4d9a-b535-0d23e9da6a29",
   "metadata": {},
   "source": [
    "### Synthèse"
   ]
  },
  {
   "cell_type": "markdown",
   "id": "aaf7cb33-d8d5-44e2-a77e-3ec748a662e3",
   "metadata": {},
   "source": [
    "Ce dernier graphique se concentre sur le format bmp, format qui typiquement n'est pas compressé : cela implique que les diverses modifications reviennent essentiellement à faire des modifications, rotations, etc de manière arbitraire sur les octets. On remarque les choses suivantes : \n",
    "> Attention, les résultats ne sont pas normalisés donc pas comparable dans l'absolu\n",
    "  * TLSH est _monstrueux_ sur shift et flip. \n",
    "  * "
   ]
  },
  {
   "cell_type": "code",
   "execution_count": null,
   "id": "70869433-05a6-4a1d-8af0-61f2df98b13c",
   "metadata": {},
   "outputs": [],
   "source": [
    "df = analysis.pretty(core.run(core.runners(), core.benchmarks()))\n",
    "df = analysis.long(df)\n",
    "\n",
    "vis_spec = r\"\"\"{\"config\":[{\"config\":{\"defaultAggregated\":false,\"geoms\":[\"boxplot\"],\"coordSystem\":\"generic\",\"limit\":-1,\"timezoneDisplayOffset\":0},\"encodings\":{\"dimensions\":[{\"fid\":\"suffix\",\"name\":\"suffix\",\"basename\":\"suffix\",\"semanticType\":\"nominal\",\"analyticType\":\"dimension\",\"offset\":0},{\"fid\":\"ref\",\"name\":\"ref\",\"basename\":\"ref\",\"semanticType\":\"nominal\",\"analyticType\":\"dimension\",\"offset\":0},{\"fid\":\"mods\",\"name\":\"mods\",\"basename\":\"mods\",\"semanticType\":\"nominal\",\"analyticType\":\"dimension\",\"offset\":0},{\"fid\":\"bench\",\"name\":\"bench\",\"basename\":\"bench\",\"semanticType\":\"nominal\",\"analyticType\":\"dimension\",\"offset\":0},{\"fid\":\"alt\",\"name\":\"alt\",\"basename\":\"alt\",\"semanticType\":\"nominal\",\"analyticType\":\"dimension\",\"offset\":0},{\"fid\":\"algo\",\"name\":\"algo\",\"basename\":\"algo\",\"semanticType\":\"nominal\",\"analyticType\":\"dimension\",\"offset\":0},{\"fid\":\"mod\",\"name\":\"mod\",\"basename\":\"mod\",\"semanticType\":\"nominal\",\"analyticType\":\"dimension\",\"offset\":0},{\"fid\":\"modval\",\"name\":\"modval\",\"basename\":\"modval\",\"semanticType\":\"nominal\",\"analyticType\":\"dimension\",\"offset\":0},{\"fid\":\"gw_mea_key_fid\",\"name\":\"Measure names\",\"analyticType\":\"dimension\",\"semanticType\":\"nominal\"}],\"measures\":[{\"fid\":\"dist\",\"name\":\"dist\",\"basename\":\"dist\",\"analyticType\":\"measure\",\"semanticType\":\"quantitative\",\"aggName\":\"sum\",\"offset\":0},{\"fid\":\"gw_count_fid\",\"name\":\"Row count\",\"analyticType\":\"measure\",\"semanticType\":\"quantitative\",\"aggName\":\"sum\",\"computed\":true,\"expression\":{\"op\":\"one\",\"params\":[],\"as\":\"gw_count_fid\"}},{\"fid\":\"gw_mea_val_fid\",\"name\":\"Measure values\",\"analyticType\":\"measure\",\"semanticType\":\"quantitative\",\"aggName\":\"sum\"}],\"rows\":[{\"fid\":\"dist\",\"name\":\"dist\",\"basename\":\"dist\",\"analyticType\":\"measure\",\"semanticType\":\"quantitative\",\"aggName\":\"sum\",\"offset\":0}],\"columns\":[{\"fid\":\"suffix\",\"name\":\"suffix\",\"basename\":\"suffix\",\"semanticType\":\"nominal\",\"analyticType\":\"dimension\",\"offset\":0},{\"fid\":\"mod\",\"name\":\"mod\",\"basename\":\"mod\",\"semanticType\":\"nominal\",\"analyticType\":\"dimension\",\"offset\":0,\"sort\":\"descending\"}],\"color\":[{\"fid\":\"algo\",\"name\":\"algo\",\"basename\":\"algo\",\"semanticType\":\"nominal\",\"analyticType\":\"dimension\",\"offset\":0}],\"opacity\":[],\"size\":[],\"shape\":[],\"radius\":[],\"theta\":[],\"longitude\":[],\"latitude\":[],\"geoId\":[],\"details\":[],\"filters\":[{\"fid\":\"suffix\",\"name\":\"suffix\",\"basename\":\"suffix\",\"semanticType\":\"nominal\",\"analyticType\":\"dimension\",\"offset\":0,\"rule\":{\"type\":\"one of\",\"value\":[\"bmp\"]}}],\"text\":[]},\"layout\":{\"showActions\":false,\"showTableSummary\":false,\"stack\":\"center\",\"interactiveScale\":true,\"zeroScale\":true,\"size\":{\"mode\":\"full\",\"width\":320,\"height\":200},\"format\":{},\"geoKey\":\"name\",\"resolve\":{\"x\":false,\"y\":false,\"color\":false,\"opacity\":false,\"shape\":false,\"size\":false}},\"visId\":\"gw_DCxV\",\"name\":\"Le cas BMP\"}],\"chart_map\":{},\"workflow_list\":[{\"workflow\":[{\"type\":\"filter\",\"filters\":[{\"fid\":\"suffix\",\"rule\":{\"type\":\"one of\",\"value\":[\"bmp\"]}}]},{\"type\":\"view\",\"query\":[{\"op\":\"raw\",\"fields\":[\"suffix\",\"mod\",\"algo\",\"dist\"]}]}]}],\"version\":\"0.4.9.13\"}\"\"\"\n",
    "pyg.walk(df, spec=vis_spec)"
   ]
  },
  {
   "cell_type": "markdown",
   "id": "3a0393f8-8fd4-4dae-ab82-1155ca0152ea",
   "metadata": {},
   "source": [
    "### Comparaison entre les algorithmes\n"
   ]
  },
  {
   "cell_type": "code",
   "execution_count": null,
   "id": "36b43564-236c-4753-beca-689794cb8cfd",
   "metadata": {},
   "outputs": [],
   "source": [
    "import matplotlib.pyplot as plt\n",
    "import numpy as np\n",
    "\n",
    "plt.close('all')\n",
    "runners = core.runners()\n",
    "thresholds = {'ssdeep':threshold_min_ssdeep, 'sdhash':threshold_min_sdhash, 'nilsimsa':threshold_min_nilsimsa, 'tlsh':threshold_min_tlsh, 'lzjd':threshold_min_lzjd}\n",
    "\n",
    "dataframes_similar = {runner:np.array(core.run([runner],['text'])[\"dist\"]) for runner in runners}\n",
    "dataframes_non_similar = {runner:np.array(core.run([runner],['noise'])[\"dist\"]) for runner in runners}\n",
    "\n",
    "fig, ax = plt.subplots(figsize=(10, 6))\n",
    "\n",
    "# Plot the fisrt algorithm outside of the loop to put the label\n",
    "ax.scatter([index-1.1]*len(dataframes_similar[runners[0]]), dataframes_similar[runners[0]]/thresholds[runners[0]], label='Fichiers similaires', color='green', marker='o', s=5)  # Ronds\n",
    "ax.scatter([index-0.9]*len(dataframes_non_similar[runners[0]]), dataframes_non_similar[runners[0]]/thresholds[runners[0]], label='Fichiers non similaires', color='red', marker='s', s=5)  # Carrés\n",
    "\n",
    "# Tracer les points pour les deux séries\n",
    "for index, runner in enumerate(core.runners(), start=1):\n",
    "    ax.scatter([index-1.1]*len(dataframes_similar[runner]), dataframes_similar[runner]/thresholds[runner], color='green', marker='o', s=5)  # Ronds\n",
    "    ax.scatter([index-0.9]*len(dataframes_non_similar[runner]), dataframes_non_similar[runner]/thresholds[runner], color='red', marker='s', s=5)  # Carrés\n",
    "\n",
    "# Horizontal line for the threshold\n",
    "ax.axhline(y=1, color='green', linestyle='--', linewidth=1.5, label='Seuil')\n",
    "\n",
    "# Ajustements des axes et des labels\n",
    "ax.set_xticks(x)\n",
    "ax.set_xticklabels(algorithmes, rotation=45, ha='right')\n",
    "ax.set_xlabel('Algorithmes')\n",
    "ax.set_ylabel('Distances')\n",
    "ax.set_title('Distances renormalisées au seuil de travail par algorithme')\n",
    "\n",
    "# Ajout de la légende\n",
    "ax.legend()\n",
    "\n",
    "# Affichage du graphique\n",
    "plt.tight_layout()\n",
    "plt.show()\n"
   ]
  },
  {
   "cell_type": "markdown",
   "id": "1627937b-39ca-44fd-9041-079e3dcf0828",
   "metadata": {},
   "source": [
    "# Visualisation de fichiers"
   ]
  },
  {
   "cell_type": "code",
   "execution_count": null,
   "id": "79778210-7e1d-4ab3-9ef6-2788a44e9092",
   "metadata": {},
   "outputs": [],
   "source": [
    "from matplotlib.colors import LinearSegmentedColormap, LogNorm\n",
    "import matplotlib as mpl\n",
    "colors = [(0, 0, 0), (0, 1, 0)]  # Black to green\n",
    "cmap = LinearSegmentedColormap.from_list(\"hack3r\", colors)\n",
    "mpl.colormaps.register(cmap, force=True)"
   ]
  },
  {
   "cell_type": "code",
   "execution_count": null,
   "id": "a3adf11d-9b9b-4c6d-81a8-2301d243b2e6",
   "metadata": {},
   "outputs": [],
   "source": [
    "%load_ext autoreload\n",
    "%autoreload 2\n",
    "import lib.analysis"
   ]
  },
  {
   "cell_type": "code",
   "execution_count": null,
   "id": "b3a6f48d-6685-47d5-b948-d6fa15065db9",
   "metadata": {},
   "outputs": [],
   "source": [
    "def render_file(fn):\n",
    "    bytes_ = open(fn, \"rb\").read()\n",
    "    hist = analysis.ngrams(2, bytes_)\n",
    "\n",
    "    fig, ax = plt.subplots()\n",
    "    im = ax.imshow(hist, interpolation='none' , cmap=\"hack3r\")\n",
    "    fig.colorbar(im, label=\"ngrams occurences\")\n",
    "    ax.set_title(fn)\n"
   ]
  },
  {
   "cell_type": "code",
   "execution_count": null,
   "id": "ef05477c-acbe-4982-bca4-0ad83c25a634",
   "metadata": {},
   "outputs": [],
   "source": [
    "render_file(\"./data/benchmarks/image/01.ref.png\")\n",
    "render_file(\"./data/benchmarks/image/01.flip.png\")\n",
    "render_file(\"./data/benchmarks/image/01.blur-5.png\")\n",
    "\n",
    "\n",
    "\n",
    "\n"
   ]
  },
  {
   "cell_type": "code",
   "execution_count": null,
   "id": "d35d1456-edb2-45c2-bba0-e3e121adf76c",
   "metadata": {},
   "outputs": [],
   "source": []
  },
  {
   "cell_type": "code",
   "execution_count": null,
   "id": "328e431f-8712-46bf-9bdd-f8937c6cc74c",
   "metadata": {},
   "outputs": [],
   "source": []
  }
 ],
 "metadata": {
  "kernelspec": {
   "display_name": "Python 3 (ipykernel)",
   "language": "python",
   "name": "python3"
  },
  "language_info": {
   "codemirror_mode": {
    "name": "ipython",
    "version": 3
   },
   "file_extension": ".py",
   "mimetype": "text/x-python",
   "name": "python",
   "nbconvert_exporter": "python",
   "pygments_lexer": "ipython3",
   "version": "3.11.11"
  }
 },
 "nbformat": 4,
 "nbformat_minor": 5
}
